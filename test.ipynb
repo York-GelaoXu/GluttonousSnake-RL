{
 "cells": [
  {
   "cell_type": "code",
   "execution_count": 1,
   "metadata": {},
   "outputs": [
    {
     "name": "stdout",
     "output_type": "stream",
     "text": [
      "pygame 2.0.3 (SDL 2.0.16, Python 3.9.7)\n",
      "Hello from the pygame community. https://www.pygame.org/contribute.html\n"
     ]
    }
   ],
   "source": [
    "from env import GluttonousSnake\n",
    "from agentnet import PPO,SAC\n",
    "from trainfunction import train_on_policy_agent,train_off_policy_agent,ReplayBuffer\n",
    "import torch\n",
    "import matplotlib.pyplot as plt\n",
    "import numpy as np"
   ]
  },
  {
   "cell_type": "code",
   "execution_count": 11,
   "metadata": {},
   "outputs": [
    {
     "name": "stdout",
     "output_type": "stream",
     "text": [
      "start\n",
      "25\n"
     ]
    }
   ],
   "source": [
    "#test\n",
    "critic_lr = 1e-3\n",
    "actor_lr=1e-4\n",
    "hidden_dim = 128\n",
    "gamma = 0.94\n",
    "lmbda=0.92\n",
    "epochs=25\n",
    "eps=0.3\n",
    "device = torch.device(\"cuda\") if torch.cuda.is_available() else torch.device(\n",
    "    \"cpu\")\n",
    "state_dim = 6\n",
    "action_dim=4\n",
    "agent = PPO(state_dim, hidden_dim, action_dim,actor_lr, critic_lr,gamma,lmbda,epochs,eps, device,savepath='model/PPOmodel/')\n",
    "agent.loadmodel\n",
    "env=GluttonousSnake(True,state_dim=state_dim)\n",
    "state=env.reset()\n",
    "rewards=0\n",
    "done=0\n",
    "print('start')\n",
    "while not done:#没有走到终点\n",
    "        env.render()\n",
    "        action=agent.take_action(state)\n",
    "        next_state,reward,done,_=env.step(action)#根据环境反应下一步\n",
    "        state=next_state\n",
    "        rewards+=reward\n",
    "print(rewards+15)\n",
    "#退出窗口"
   ]
  },
  {
   "cell_type": "code",
   "execution_count": 6,
   "metadata": {},
   "outputs": [
    {
     "name": "stdout",
     "output_type": "stream",
     "text": [
      "start\n",
      "21\n"
     ]
    }
   ],
   "source": [
    "actor_lr = 1e-4\n",
    "critic_lr = 1e-3\n",
    "alpha_lr = 1e-2\n",
    "hidden_dim = 128\n",
    "gamma = 0.95\n",
    "tau = 0.005  # 软更新参数\n",
    "buffer_size = 10000\n",
    "minimal_size = 600\n",
    "batch_size = 512\n",
    "target_entropy = 0\n",
    "device = torch.device(\"cuda\") if torch.cuda.is_available() else torch.device(\n",
    "    \"cpu\")\n",
    "\n",
    "state_dim = 6\n",
    "action_dim = 4\n",
    "agent = SAC(state_dim, hidden_dim, action_dim, actor_lr, critic_lr, alpha_lr,\n",
    "            target_entropy, tau, gamma, device)\n",
    "agent.loadmodel\n",
    "env=GluttonousSnake(True,state_dim=state_dim)\n",
    "state=env.reset()\n",
    "rewards=0\n",
    "done=0\n",
    "print('start')\n",
    "while not done:#没有走到终点\n",
    "        env.render()\n",
    "        action=agent.take_action(state)\n",
    "        next_state,reward,done,_=env.step(action)#根据环境反应下一步\n",
    "        state=next_state\n",
    "        rewards+=reward\n",
    "print(rewards+15)"
   ]
  },
  {
   "cell_type": "code",
   "execution_count": 13,
   "metadata": {},
   "outputs": [],
   "source": [
    "env.terminate()"
   ]
  }
 ],
 "metadata": {
  "kernelspec": {
   "display_name": "Python 3.9.12 ('base')",
   "language": "python",
   "name": "python3"
  },
  "language_info": {
   "codemirror_mode": {
    "name": "ipython",
    "version": 3
   },
   "file_extension": ".py",
   "mimetype": "text/x-python",
   "name": "python",
   "nbconvert_exporter": "python",
   "pygments_lexer": "ipython3",
   "version": "3.9.7"
  },
  "orig_nbformat": 4,
  "vscode": {
   "interpreter": {
    "hash": "d12a6980af1de3549060b7b451d48d445ec6b4aaeaf0b0e12a509d2182e95745"
   }
  }
 },
 "nbformat": 4,
 "nbformat_minor": 2
}
